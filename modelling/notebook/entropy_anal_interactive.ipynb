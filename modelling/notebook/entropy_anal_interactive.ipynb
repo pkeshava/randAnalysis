{
 "cells": [
  {
   "cell_type": "code",
   "execution_count": 33,
   "id": "da115f56",
   "metadata": {},
   "outputs": [],
   "source": [
    "import sys\n",
    "sys.path.insert(1, '/Users/Pouyan/Builds/PhD/research_PhD/builds_PhD/randAnalysis/modelling')\n",
    "#import scratch\n",
    "import secrets\n",
    "import numpy as np"
   ]
  },
  {
   "cell_type": "code",
   "execution_count": 45,
   "id": "232272bc",
   "metadata": {},
   "outputs": [],
   "source": [
    "num_bytes_to_generate = np.array([102400])\n",
    "num_bits = 8*num_bytes_to_generate[0]\n",
    "num_of_pixels = 32"
   ]
  },
  {
   "cell_type": "code",
   "execution_count": 46,
   "id": "82cc4f41",
   "metadata": {},
   "outputs": [],
   "source": [
    "def gen_bits_using_secrets(num_bytes_to_generate, pixel_num):\n",
    "    if(num_bytes_to_generate>100000000):\n",
    "        print(\"TOO MANY BITS!\")\n",
    "        return\n",
    "    else:\n",
    "        secret_random = secrets.token_bytes(num_bytes_to_generate)\n",
    "        f = open('../dataOut/secrets/spad{}.bin'.format(pixel_num), 'wb')\n",
    "        f.write(secret_random)\n",
    "        f.close()"
   ]
  },
  {
   "cell_type": "code",
   "execution_count": 47,
   "id": "24a26e0b",
   "metadata": {},
   "outputs": [],
   "source": [
    "for pixel_num in range(num_of_pixels):\n",
    "    gen_bits_using_secrets(num_bytes_to_generate[0], pixel_num)"
   ]
  },
  {
   "cell_type": "code",
   "execution_count": 48,
   "id": "5d496bc7",
   "metadata": {},
   "outputs": [],
   "source": [
    "def gen_keys(num_of_pixels,num_bits):\n",
    "    bitBeingAnal = np.zeros(num_of_pixels, dtype='uint8')\n",
    "    key = np.zeros(num_bits, dtype='uint32')\n",
    "    \n",
    "    for bit in range(num_bits):\n",
    "        for pixel in range(num_of_pixels):\n",
    "            data = np.fromfile('../dataOut/secrets/spad{}.bin'.format(pixel), dtype='uint8')\n",
    "            bitBeingAnal[pixel] = data[bit]\n",
    "        # the -1 is because of the machine endian... otherwise when you imply .view it doesn't work...\n",
    "        shaped_into_bytes =  np.packbits(bitBeingAnal.reshape(1, 4, 8)[:, ::-1])\n",
    "        key[bit] = shaped_into_bytes.view(np.uint32)\n",
    "    return key"
   ]
  },
  {
   "cell_type": "code",
   "execution_count": 49,
   "id": "ac0568fe",
   "metadata": {},
   "outputs": [
    {
     "ename": "IndexError",
     "evalue": "index 102400 is out of bounds for axis 0 with size 102400",
     "output_type": "error",
     "traceback": [
      "\u001b[0;31m------------------------------------------------------\u001b[0m",
      "\u001b[0;31mIndexError\u001b[0m           Traceback (most recent call last)",
      "\u001b[0;32m<ipython-input-49-57167987e787>\u001b[0m in \u001b[0;36m<module>\u001b[0;34m\u001b[0m\n\u001b[0;32m----> 1\u001b[0;31m \u001b[0mkeygenfuncvalues\u001b[0m\u001b[0;34m=\u001b[0m\u001b[0mgen_keys\u001b[0m\u001b[0;34m(\u001b[0m\u001b[0mnum_of_pixels\u001b[0m\u001b[0;34m,\u001b[0m\u001b[0mnum_bits\u001b[0m\u001b[0;34m)\u001b[0m\u001b[0;34m\u001b[0m\u001b[0;34m\u001b[0m\u001b[0m\n\u001b[0m\u001b[1;32m      2\u001b[0m \u001b[0munique_keys_generated\u001b[0m\u001b[0;34m,\u001b[0m \u001b[0mcounts_for_each_key\u001b[0m \u001b[0;34m=\u001b[0m \u001b[0mnp\u001b[0m\u001b[0;34m.\u001b[0m\u001b[0munique\u001b[0m\u001b[0;34m(\u001b[0m\u001b[0mkeygenfuncvalues\u001b[0m\u001b[0;34m,\u001b[0m \u001b[0mreturn_counts\u001b[0m\u001b[0;34m=\u001b[0m\u001b[0;32mTrue\u001b[0m\u001b[0;34m)\u001b[0m\u001b[0;34m\u001b[0m\u001b[0;34m\u001b[0m\u001b[0m\n\u001b[1;32m      3\u001b[0m \u001b[0mmost_common_key\u001b[0m \u001b[0;34m=\u001b[0m\u001b[0munique_keys_generated\u001b[0m\u001b[0;34m[\u001b[0m\u001b[0mcounts_for_each_key\u001b[0m\u001b[0;34m.\u001b[0m\u001b[0margmax\u001b[0m\u001b[0;34m(\u001b[0m\u001b[0;34m)\u001b[0m\u001b[0;34m]\u001b[0m\u001b[0;34m\u001b[0m\u001b[0;34m\u001b[0m\u001b[0m\n",
      "\u001b[0;32m<ipython-input-48-248aa2a7e6fd>\u001b[0m in \u001b[0;36mgen_keys\u001b[0;34m(num_of_pixels, num_bits)\u001b[0m\n\u001b[1;32m      6\u001b[0m         \u001b[0;32mfor\u001b[0m \u001b[0mpixel\u001b[0m \u001b[0;32min\u001b[0m \u001b[0mrange\u001b[0m\u001b[0;34m(\u001b[0m\u001b[0mnum_of_pixels\u001b[0m\u001b[0;34m)\u001b[0m\u001b[0;34m:\u001b[0m\u001b[0;34m\u001b[0m\u001b[0;34m\u001b[0m\u001b[0m\n\u001b[1;32m      7\u001b[0m             \u001b[0mdata\u001b[0m \u001b[0;34m=\u001b[0m \u001b[0mnp\u001b[0m\u001b[0;34m.\u001b[0m\u001b[0mfromfile\u001b[0m\u001b[0;34m(\u001b[0m\u001b[0;34m'../dataOut/secrets/spad{}.bin'\u001b[0m\u001b[0;34m.\u001b[0m\u001b[0mformat\u001b[0m\u001b[0;34m(\u001b[0m\u001b[0mpixel\u001b[0m\u001b[0;34m)\u001b[0m\u001b[0;34m,\u001b[0m \u001b[0mdtype\u001b[0m\u001b[0;34m=\u001b[0m\u001b[0;34m'uint8'\u001b[0m\u001b[0;34m)\u001b[0m\u001b[0;34m\u001b[0m\u001b[0;34m\u001b[0m\u001b[0m\n\u001b[0;32m----> 8\u001b[0;31m             \u001b[0mbitBeingAnal\u001b[0m\u001b[0;34m[\u001b[0m\u001b[0mpixel\u001b[0m\u001b[0;34m]\u001b[0m \u001b[0;34m=\u001b[0m \u001b[0mdata\u001b[0m\u001b[0;34m[\u001b[0m\u001b[0mbit\u001b[0m\u001b[0;34m]\u001b[0m\u001b[0;34m\u001b[0m\u001b[0;34m\u001b[0m\u001b[0m\n\u001b[0m\u001b[1;32m      9\u001b[0m         \u001b[0;31m# the -1 is because of the machine endian... otherwise when you imply .view it doesn't work...\u001b[0m\u001b[0;34m\u001b[0m\u001b[0;34m\u001b[0m\u001b[0;34m\u001b[0m\u001b[0m\n\u001b[1;32m     10\u001b[0m         \u001b[0mshaped_into_bytes\u001b[0m \u001b[0;34m=\u001b[0m  \u001b[0mnp\u001b[0m\u001b[0;34m.\u001b[0m\u001b[0mpackbits\u001b[0m\u001b[0;34m(\u001b[0m\u001b[0mbitBeingAnal\u001b[0m\u001b[0;34m.\u001b[0m\u001b[0mreshape\u001b[0m\u001b[0;34m(\u001b[0m\u001b[0;36m1\u001b[0m\u001b[0;34m,\u001b[0m \u001b[0;36m4\u001b[0m\u001b[0;34m,\u001b[0m \u001b[0;36m8\u001b[0m\u001b[0;34m)\u001b[0m\u001b[0;34m[\u001b[0m\u001b[0;34m:\u001b[0m\u001b[0;34m,\u001b[0m \u001b[0;34m:\u001b[0m\u001b[0;34m:\u001b[0m\u001b[0;34m-\u001b[0m\u001b[0;36m1\u001b[0m\u001b[0;34m]\u001b[0m\u001b[0;34m)\u001b[0m\u001b[0;34m\u001b[0m\u001b[0;34m\u001b[0m\u001b[0m\n",
      "\u001b[0;31mIndexError\u001b[0m: index 102400 is out of bounds for axis 0 with size 102400"
     ]
    }
   ],
   "source": [
    "keygenfuncvalues=gen_keys(num_of_pixels,num_bits)\n",
    "unique_keys_generated, counts_for_each_key = np.unique(keygenfuncvalues, return_counts=True)\n",
    "most_common_key =unique_keys_generated[counts_for_each_key.argmax()]"
   ]
  },
  {
   "cell_type": "code",
   "execution_count": 30,
   "id": "c4561929",
   "metadata": {},
   "outputs": [
    {
     "name": "stdout",
     "output_type": "stream",
     "text": [
      "range(0, 1)\n"
     ]
    }
   ],
   "source": [
    "print(most_common_key)"
   ]
  },
  {
   "cell_type": "code",
   "execution_count": null,
   "id": "ce7c34c5",
   "metadata": {},
   "outputs": [],
   "source": []
  }
 ],
 "metadata": {
  "kernelspec": {
   "display_name": "Python [conda env:spyder-env]",
   "language": "python",
   "name": "conda-env-spyder-env-py"
  },
  "language_info": {
   "codemirror_mode": {
    "name": "ipython",
    "version": 3
   },
   "file_extension": ".py",
   "mimetype": "text/x-python",
   "name": "python",
   "nbconvert_exporter": "python",
   "pygments_lexer": "ipython3",
   "version": "3.9.5"
  }
 },
 "nbformat": 4,
 "nbformat_minor": 5
}
